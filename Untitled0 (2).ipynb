{
  "nbformat": 4,
  "nbformat_minor": 0,
  "metadata": {
    "colab": {
      "provenance": []
    },
    "kernelspec": {
      "name": "python3",
      "display_name": "Python 3"
    },
    "language_info": {
      "name": "python"
    }
  },
  "cells": [
    {
      "cell_type": "markdown",
      "source": [
        "1.  What is Object-Oriented Programming (OOP) ?\n",
        "    \n",
        "    Object oriented programming is programming based concept of objects and\n",
        "    class. These objects cancontain data and code . In this create structure programe .\n"
      ],
      "metadata": {
        "id": "i7KxLNOTMV-E"
      }
    },
    {
      "cell_type": "markdown",
      "source": [
        "2.  What is a class in OOP ?\n",
        "    \n",
        "    A class is a blueprint intities in python , it define the properties and behavior of objects.\n"
      ],
      "metadata": {
        "id": "M9Bi-I3eNxpW"
      }
    },
    {
      "cell_type": "markdown",
      "source": [
        "3.  What is an object in OOP?\n",
        "    \n",
        "    A object is a instance of a class .It is based on class blueprint .\n"
      ],
      "metadata": {
        "id": "-O9wpHTPOynx"
      }
    },
    {
      "cell_type": "markdown",
      "source": [
        "4.  What is the difference between abstraction and encapsulation?\n",
        "\n",
        "    Abstraction is hide the implementation details and show the essential features . It is focus on an object and simply interface with user.\n",
        "\n",
        "    Encapsulation hide data and protect it from unauthorized access.\n",
        "    It is focus on data inside the object .\n",
        "    \n",
        "    \n",
        "\n"
      ],
      "metadata": {
        "id": "hXLV4N7MPMsJ"
      }
    },
    {
      "cell_type": "markdown",
      "source": [
        "5.  What are dunder methods in Python?\n",
        "\n",
        "    Dunder methods are special method in python that start and end with two underscore ( __ ) . That is define or customize the behavior of your object .\n"
      ],
      "metadata": {
        "id": "69iJ2V8XQfhf"
      }
    },
    {
      "cell_type": "markdown",
      "source": [
        "6.  Explain the concept of inheritance in OOP?\n",
        "\n",
        "    Inheritance is a property of oops concept . In this inherit the property of parent class . Child is derived class which is inherit with the parent class.\n"
      ],
      "metadata": {
        "id": "7upeNSUDRgWx"
      }
    },
    {
      "cell_type": "markdown",
      "source": [
        "7.  What is polymorphism in OOP?\n",
        "    \n",
        "    Polymorphism is a another propertyof oops concept. It is ability for different classed to be treated as instances of same class .\n",
        "\n",
        "\n"
      ],
      "metadata": {
        "id": "4IGPGvIjSZGv"
      }
    },
    {
      "cell_type": "markdown",
      "source": [
        " 8.  How is encapsulation achieved in Python?\n",
        "\n",
        "     Encapsulation in python is mainly achieved through access modifiers and methods . It provides naming conventions to indicate the intended level of access.\n"
      ],
      "metadata": {
        "id": "n0skH0EETRCr"
      }
    },
    {
      "cell_type": "markdown",
      "source": [
        "9. What is a constructor in Python?\n",
        "\n",
        "   A constructor is a special method in python that is automatically called when an object od a class is created . It is initialize the attributes of the class.\n"
      ],
      "metadata": {
        "id": "Uh2vvh8pUM0C"
      }
    },
    {
      "cell_type": "markdown",
      "source": [
        "10  What are class and static methods in Python?\n",
        "\n",
        "  A class method takes 'cls' as its first parameter .It works with the class itself , not the instance .\n",
        "  A static method does not take self or 'cls ' as a first parameter . It is independent of both class and instance .It behaves like a regular function .\n"
      ],
      "metadata": {
        "id": "FBmfJ7AKUzhu"
      }
    },
    {
      "cell_type": "markdown",
      "source": [
        "11. What is method overloading in Python ?\n",
        "\n",
        "    Method overloading means defining multiple methods in the same classname but different numbers or types of parameters ."
      ],
      "metadata": {
        "id": "aJ1Vamu9WYZM"
      }
    },
    {
      "cell_type": "markdown",
      "source": [
        "12. What is method overriding in OOP?\n",
        "\n",
        "   It is feature of object oriented programming . In this subclass provides a specific implementation of a method class thst is already defined in its parent class.\n",
        "   It is key component of polymorphism in oop ."
      ],
      "metadata": {
        "id": "Ia-LD7GVXAnj"
      }
    },
    {
      "cell_type": "markdown",
      "source": [
        "13. What is a property decorator in Python ?\n",
        "\n",
        "    The property decorator in python is used to turn a method into a getter , so it can be accessed like an attribute .It allows you to encapsulate instance variables . It protect data from unauthorized user."
      ],
      "metadata": {
        "id": "jhdzmLOWYEH9"
      }
    },
    {
      "cell_type": "markdown",
      "source": [
        "14. Why is polymorphism important in OOP ?\n",
        "\n",
        "    Polymorphism allows you tho write a code that works on parent class types but it will execute the correct child class methods .\n",
        "    In this you can reuse the same function or interface for different type of object ."
      ],
      "metadata": {
        "id": "bGTiFFk5ZKrm"
      }
    },
    {
      "cell_type": "markdown",
      "source": [
        "15 .What is an abstract class in Python ?\n",
        "\n",
        "   An abstrct class is class that cannot be instantiated directly and it serves as a blueprint for another classes . It must be overridden by subclasses.\n",
        "   In this define a common interface for all its subclasses ."
      ],
      "metadata": {
        "id": "-HZdI_AXZ-ln"
      }
    },
    {
      "cell_type": "markdown",
      "source": [
        "16 .What are the advantages of OOP?\n",
        "\n",
        "  OOP provide a structured approach to software devlopment by using real world entities using objects and class .\n",
        "   code is organized into self - contained classes and objects  , it make the code reuseable . In this manitainable and scalable applications , it supports better debugging and troubleshooting problems ."
      ],
      "metadata": {
        "id": "6hFvLxpjbPfN"
      }
    },
    {
      "cell_type": "markdown",
      "source": [
        "17 . What is the difference between a class variable and an instance variable ?\n",
        "\n",
        "   A class variable is variable of class that is shared across all instances of the class  . It is define inside the class , but outside of any instance methods .\n",
        "   \n",
        "   An instance variable i unique to each instance . It is usally defined inside the  __init __() method using self ."
      ],
      "metadata": {
        "id": "86kJAw0ift-m"
      }
    },
    {
      "cell_type": "markdown",
      "source": [
        "18 .What is multiple inheritance in Python ?\n",
        "  \n",
        "  It is part of inheritance in python in this inherit from more than one parent class .This allows the child class to access attributes and methods from all its parents class .\n"
      ],
      "metadata": {
        "id": "YhNYIuEbqNZm"
      }
    },
    {
      "cell_type": "markdown",
      "source": [
        "19 .  Explain the purpose of ‘’__str__’ and ‘__repr__’ ‘ methods in Python .\n",
        "\n",
        "  __ str__ and __ repr __ both are dunder methods in python .\n",
        "  __str__ used by str() function  and print() statement .it should return user  friendly string .\n",
        "\n",
        "  __repr__ used  by the repr() function and interactive interpreter.it return a valid expression ."
      ],
      "metadata": {
        "id": "CnKBTpEQrDSX"
      }
    },
    {
      "cell_type": "markdown",
      "source": [
        "20 .What is the significance of the ‘super()’ function in Python ?\n",
        "\n",
        "The super () function is used to call methods from a parent inside a child class . in this access the parent class methods without hardcoding the parent class name . It supports multiple inheritance ."
      ],
      "metadata": {
        "id": "NI870Tgxs7Yy"
      }
    },
    {
      "cell_type": "markdown",
      "source": [
        "21. What is the significance of the __del__ method in Python ?\n",
        "  \n",
        "  This method known as a destructor . It is automatically called when object is to be destroyed . It is used to cleanup actions ."
      ],
      "metadata": {
        "id": "zc8FO1qrt27i"
      }
    },
    {
      "cell_type": "markdown",
      "source": [
        "22. What is the difference between @staticmethod and @classmethod in Python ?\n",
        "\n",
        " @staticmethod and @classmethod both are decorators , @staticmethod  is behaves like a normal function inside a class namespace .\n",
        " It does not receive self or cls as the first parameter .\n",
        " @Classmethod receives  cls as the first parameter , it can access and modify class variables ."
      ],
      "metadata": {
        "id": "PAk0Ur83uyvv"
      }
    },
    {
      "cell_type": "markdown",
      "source": [
        "23. How does polymorphism work in Python with inheritance ?\n",
        "   It means different subclasses of the same parent class can override the same method . In this parent class define a general method . when use the parent class , python automatically calls the right method depending on the onject'class .\n",
        "\n"
      ],
      "metadata": {
        "id": "jgBkMJr7wQyt"
      }
    },
    {
      "cell_type": "markdown",
      "source": [
        "24. What is method chaining in Python OOP ?\n",
        "\n",
        "  Method chaining is a technique of oops concepts .when you call multiple methods on the same object in a singleline by having each method return self .\n",
        "  It make the code more concise amd readable .\n"
      ],
      "metadata": {
        "id": "m8mrssHI1cfP"
      }
    },
    {
      "cell_type": "markdown",
      "source": [
        "25 .What is the purpose of the __call__ method in Python?\n",
        "\n",
        " This method used in an instance of a class to be called as a function. It allows you to encapsulate both data and callable behavior in single object .\n",
        "  "
      ],
      "metadata": {
        "id": "FMB8imp42mQ5"
      }
    },
    {
      "cell_type": "code",
      "source": [
        "#1. Create a parent class Animal with a method speak() that prints a generic message. Create a child class Dog\n",
        "#that overrides the speak() method to print \"Bark!\".\n",
        "class Animal :\n",
        "  def speak (self):\n",
        "    print(\"animal make a sound .\")\n",
        "class Dog(Animal):\n",
        "  def speak (self):\n",
        "    print(\"bark!\")\n",
        "a= Animal()\n",
        "a.speak()\n",
        "d= Dog()\n",
        "d.speak()"
      ],
      "metadata": {
        "colab": {
          "base_uri": "https://localhost:8080/"
        },
        "id": "yQGw1dXO3h42",
        "outputId": "ac2ce762-e71d-46ef-e38a-9fbda335e173"
      },
      "execution_count": 3,
      "outputs": [
        {
          "output_type": "stream",
          "name": "stdout",
          "text": [
            "animal make a sound .\n",
            "bark!\n"
          ]
        }
      ]
    },
    {
      "cell_type": "code",
      "source": [
        "#2. Write a program to create an abstract class Shape with a method area(). Derive classes Circle and Rectangle\n",
        "#from it and implement the area() method in both.\n",
        "from abc import ABC, abstractmethod\n",
        "import math\n",
        "class Shape(ABC):\n",
        "  @abstractmethod\n",
        "  def area(self):\n",
        "    pass\n",
        "class Circle (Shape):\n",
        "  def __init__(self,radius):\n",
        "    self.radius=radius\n",
        "  def area(self):\n",
        "    return math.pi * self.radius *self.radius\n",
        "class Rectangle(Shape):\n",
        "  def __init__ (self, length, width):\n",
        "    self.length= length\n",
        "    self.width= width\n",
        "  def area(self):\n",
        "    return self.length * self.width\n",
        "c= Circle(5)\n",
        "print(\"circle area :\", c. area())\n",
        "r= Rectangle(5,8)\n",
        "print(\"Rectangle area:\", r.area())\n"
      ],
      "metadata": {
        "colab": {
          "base_uri": "https://localhost:8080/"
        },
        "id": "BSl37MfT5IYt",
        "outputId": "7db4e7f8-1944-4ab2-bf8f-7935f5a80a3f"
      },
      "execution_count": 4,
      "outputs": [
        {
          "output_type": "stream",
          "name": "stdout",
          "text": [
            "circle area : 78.53981633974483\n",
            "Rectangle area: 40\n"
          ]
        }
      ]
    },
    {
      "cell_type": "code",
      "source": [
        "#3. Implement a multi-level inheritance scenario where a class Vehicle has an attribute type. Derive a class Car\n",
        "#and further derive a class ElectricCar that adds a battery attribute\n",
        "class Vehicle:\n",
        "    def __init__(self, vehicle_type):\n",
        "        self.vehicle_type = vehicle_type\n",
        "    def get_vehicle_type(self):\n",
        "        return f\"Vehicle Type: {self.vehicle_type}\"\n",
        "class Car(Vehicle):\n",
        "    def __init__(self, vehicle_type, make, model):\n",
        "        super().__init__(vehicle_type)\n",
        "        self.make = make\n",
        "        self.model = model\n",
        "    def get_car_details(self):\n",
        "        return f\"{self.get_vehicle_type()}, Make: {self.make}, Model: {self.model}\"\n",
        "class ElectricCar(Car):\n",
        "    def __init__(self, vehicle_type, make, model, battery_capacity):\n",
        "        super().__init__(vehicle_type, make, model)\n",
        "        self.battery_capacity = battery_capacity\n",
        "    def get_electric_car_details(self):\n",
        "        return f\"{self.get_car_details()}, Battery Capacity: {self.battery_capacity} kWh\"\n",
        "electric_car = ElectricCar(\"Electric\", \"Tesla\", \"Model 6\", 90)\n",
        "print(electric_car.get_electric_car_details())"
      ],
      "metadata": {
        "colab": {
          "base_uri": "https://localhost:8080/"
        },
        "id": "qqaZkaEo8rFb",
        "outputId": "5bcea520-6d7f-4893-ac4b-5df538cd9cab"
      },
      "execution_count": 25,
      "outputs": [
        {
          "output_type": "stream",
          "name": "stdout",
          "text": [
            "Vehicle Type: Electric, Make: Tesla, Model: Model 3, Battery Capacity: 90 kWh\n"
          ]
        }
      ]
    },
    {
      "cell_type": "code",
      "source": [
        "#4.Demonstrate polymorphism by creating a base class Bird with a method fly(). Create two derived classes\n",
        "#Sparrow and Penguin that override the fly() method.\n",
        "class Bird:\n",
        "    def fly(self):\n",
        "        print(\"This bird can fly.\")\n",
        "class Sparrow(Bird):\n",
        "    def fly(self):\n",
        "        print(\"The sparrow flies in the sky.\")\n",
        "\n",
        "class Penguin(Bird):\n",
        "    def fly(self):\n",
        "        print(\"Penguins can't fly!\")\n",
        "\n",
        "\n",
        "sparrow = Sparrow()\n",
        "penguin = Penguin()\n",
        "\n",
        "birds = [sparrow, penguin]\n",
        "\n",
        "for bird in birds:\n",
        "    bird.fly()\n",
        "\n"
      ],
      "metadata": {
        "colab": {
          "base_uri": "https://localhost:8080/"
        },
        "id": "6ixaLeHgB4qZ",
        "outputId": "a8a162a7-a988-4ea7-d858-b9119c714b35"
      },
      "execution_count": 8,
      "outputs": [
        {
          "output_type": "stream",
          "name": "stdout",
          "text": [
            "The sparrow flies in the sky.\n",
            "Penguins can't fly!\n"
          ]
        }
      ]
    },
    {
      "cell_type": "code",
      "source": [
        "#5. Write a program to demonstrate encapsulation by creating a class BankAccount with private attributes\n",
        "#balance and methods to deposit, withdraw, and check balance.\n",
        "class BankAccount:\n",
        "    def __init__(self, owner, initial_balance=0):\n",
        "        self.owner = owner\n",
        "        # Private attribute\n",
        "        self.__balance = initial_balance\n",
        "\n",
        "\n",
        "    def deposit(self, amount):\n",
        "        if amount > 0:\n",
        "            self.__balance += amount\n",
        "            print(f\"Deposited {amount}. New balance is {self.__balance}.\")\n",
        "        else:\n",
        "            print(\"Deposit amount must be greater than zero.\")\n",
        "\n",
        "\n",
        "    def withdraw(self, amount):\n",
        "        if amount > 0 and amount <= self.__balance:\n",
        "            self.__balance -= amount\n",
        "            print(f\"Withdrew {amount}. New balance is {self.__balance}.\")\n",
        "        elif amount > self.__balance:\n",
        "            print(\"Insufficient balance.\")\n",
        "        else:\n",
        "            print(\"Withdraw amount must be greater than zero.\")\n",
        "\n",
        "\n",
        "    def check_balance(self):\n",
        "        return self.__balance\n",
        "\n",
        "\n",
        "account = BankAccount(\"John Doe\", 1000)\n",
        "\n",
        "\n",
        "print(f\"Initial balance: {account.check_balance()}\")\n",
        "\n",
        "account.deposit(500)\n",
        "account.withdraw(300)\n",
        "account.withdraw(1500)\n",
        "print(f\"Final balance: {account.check_balance()}\")\n"
      ],
      "metadata": {
        "colab": {
          "base_uri": "https://localhost:8080/"
        },
        "id": "2U-uXAEyCn49",
        "outputId": "03555817-0773-47ca-e6be-8f43074bd67b"
      },
      "execution_count": 9,
      "outputs": [
        {
          "output_type": "stream",
          "name": "stdout",
          "text": [
            "Initial balance: 1000\n",
            "Deposited 500. New balance is 1500.\n",
            "Withdrew 300. New balance is 1200.\n",
            "Insufficient balance.\n",
            "Final balance: 1200\n"
          ]
        }
      ]
    },
    {
      "cell_type": "code",
      "source": [
        "#6. Demonstrate runtime polymorphism using a method play() in a base class Instrument. Derive classes Guitar\n",
        "#and Piano that implement their own version of play().\n",
        "# Base class\n",
        "class Instrument:\n",
        "    def play(self):\n",
        "        print(\"Playing an instrument\")\n",
        "class Guitar(Instrument):\n",
        "    def play(self):\n",
        "        print(\"Strumming the guitar\")\n",
        "class Piano(Instrument):\n",
        "    def play(self):\n",
        "        print(\"Playing the piano\")\n",
        "def play_instrument(instrument: Instrument):\n",
        "    instrument.play()\n",
        "guitar = Guitar()\n",
        "piano = Piano()\n",
        "play_instrument(guitar)\n",
        "play_instrument(piano)\n"
      ],
      "metadata": {
        "colab": {
          "base_uri": "https://localhost:8080/"
        },
        "id": "PfIRh_cjDQNi",
        "outputId": "a45830f3-03e6-496a-c2c1-3ae64422003d"
      },
      "execution_count": 10,
      "outputs": [
        {
          "output_type": "stream",
          "name": "stdout",
          "text": [
            "Strumming the guitar\n",
            "Playing the piano\n"
          ]
        }
      ]
    },
    {
      "cell_type": "code",
      "source": [
        "#7. Create a class MathOperations with a class method add_numbers() to add two numbers and a static\n",
        "#method subtract_numbers() to subtract two numbers.\n",
        "class MathOperations:\n",
        "    @classmethod\n",
        "    def add_numbers(cls, num1, num2):\n",
        "        return num1 + num2\n",
        "    @staticmethod\n",
        "    def subtract_numbers(num1, num2):\n",
        "        return num1 - num2\n",
        "result_add = MathOperations.add_numbers(10, 5)\n",
        "result_subtract = MathOperations.subtract_numbers(10, 5)\n",
        "\n",
        "print(f\"Addition Result: {result_add}\")\n",
        "print(f\"Subtraction Result: {result_subtract}\")\n"
      ],
      "metadata": {
        "colab": {
          "base_uri": "https://localhost:8080/"
        },
        "id": "pC9QxA2oDpmK",
        "outputId": "7e388221-ff19-4d36-d3e4-da207f0b4e24"
      },
      "execution_count": 11,
      "outputs": [
        {
          "output_type": "stream",
          "name": "stdout",
          "text": [
            "Addition Result: 15\n",
            "Subtraction Result: 5\n"
          ]
        }
      ]
    },
    {
      "cell_type": "code",
      "source": [
        "#8. Implement a class Person with a class method to count the total number of persons created.\n",
        "class Person:\n",
        "    total_persons = 0\n",
        "    def __init__(self, name, age):\n",
        "        self.name = name\n",
        "        self.age = age\n",
        "        Person.total_persons += 1\n",
        "    @classmethod\n",
        "    def get_total_persons(cls):\n",
        "        return cls.total_persons\n",
        "person1 = Person(\"John\", 25)\n",
        "person2 = Person(\"Jane\", 30)\n",
        "person3 = Person(\"Alice\", 22)\n",
        "print(f\"Total persons created: {Person.get_total_persons()}\")\n"
      ],
      "metadata": {
        "colab": {
          "base_uri": "https://localhost:8080/"
        },
        "id": "lkGOzzxBEeUz",
        "outputId": "71c3aa47-dc7d-4a16-bab2-6eed348fcfd4"
      },
      "execution_count": 13,
      "outputs": [
        {
          "output_type": "stream",
          "name": "stdout",
          "text": [
            "Total persons created: 3\n"
          ]
        }
      ]
    },
    {
      "cell_type": "code",
      "source": [
        "#9. Write a class Fraction with attributes numerator and denominator. Override the str method to display the\n",
        "#fraction as \"numerator/denominator\".\n",
        "class Fraction:\n",
        "    def __init__(self, numerator, denominator):\n",
        "        self.numerator = numerator\n",
        "        self.denominator = denominator\n",
        "    def __str__(self):\n",
        "        return f\"{self.numerator}/{self.denominator}\"\n",
        "fraction = Fraction(3, 4)\n",
        "print(fraction)\n"
      ],
      "metadata": {
        "colab": {
          "base_uri": "https://localhost:8080/"
        },
        "id": "2H95DKZxFHFZ",
        "outputId": "24bd0746-08c6-4bf6-9826-7f25c25409ea"
      },
      "execution_count": 14,
      "outputs": [
        {
          "output_type": "stream",
          "name": "stdout",
          "text": [
            "3/4\n"
          ]
        }
      ]
    },
    {
      "cell_type": "code",
      "source": [
        "#10. Demonstrate operator overloading by creating a class Vector and overriding the add method to add two\n",
        "#vectors.\n",
        "class Vector:\n",
        "    def __init__(self, x, y):\n",
        "        self.x = x\n",
        "        self.y = y\n",
        "    def __add__(self, other):\n",
        "        return Vector(self.x + other.x, self.y + other.y)\n",
        "    def __str__(self):\n",
        "        return f\"({self.x}, {self.y})\"\n",
        "vector1 = Vector(2, 3)\n",
        "vector2 = Vector(4, 1)\n",
        "result_vector = vector1 + vector2\n",
        "print(f\"Result of vector addition: {result_vector}\")\n",
        "\n",
        "\n"
      ],
      "metadata": {
        "colab": {
          "base_uri": "https://localhost:8080/"
        },
        "id": "XgQA8pjFFbWF",
        "outputId": "f3c4eab9-4451-44c9-fd71-f2bf0776aee6"
      },
      "execution_count": 15,
      "outputs": [
        {
          "output_type": "stream",
          "name": "stdout",
          "text": [
            "Result of vector addition: (6, 4)\n"
          ]
        }
      ]
    },
    {
      "cell_type": "code",
      "source": [
        "#11. Create a class Person with attributes name and age. Add a method greet() that prints \"Hello, my name is\n",
        "#{name} and I am {age} years old.\"\n",
        "class Person:\n",
        "    def __init__(self, name, age):\n",
        "        self.name = name\n",
        "        self.age = age\n",
        "\n",
        "    def greet(self):\n",
        "        print(f\"Hello, my name is {self.name} and I am {self.age} years old.\")\n",
        "\n",
        "# Create an instance of Person\n",
        "person1 = Person(\"Shyam\", 25)\n",
        "person1.greet()\n"
      ],
      "metadata": {
        "colab": {
          "base_uri": "https://localhost:8080/"
        },
        "id": "mOb3j3q0GNqf",
        "outputId": "22e039c0-bbd9-4608-8762-bde040b7dad3"
      },
      "execution_count": 17,
      "outputs": [
        {
          "output_type": "stream",
          "name": "stdout",
          "text": [
            "Hello, my name is Shyam and I am 25 years old.\n"
          ]
        }
      ]
    },
    {
      "cell_type": "code",
      "source": [
        "#12. Implement a class Student with attributes name and grades. Create a method average_grade() to compute\n",
        "#the average of the grades.\n",
        "class Student:\n",
        "    def __init__(self, name, grades):\n",
        "        self.name = name\n",
        "        self.grades = grades\n",
        "\n",
        "    def average_grade(self):\n",
        "        if len(self.grades) == 0:\n",
        "            return 0\n",
        "        return sum(self.grades) / len(self.grades)\n",
        "student1 = Student(\"Alice\", [90, 85, 88, 92, 87])\n",
        "average = student1.average_grade()\n",
        "print(f\"{student1.name}'s average grade is {average:.2f}\")\n"
      ],
      "metadata": {
        "colab": {
          "base_uri": "https://localhost:8080/"
        },
        "id": "lXuriaEGHGhf",
        "outputId": "2141bacb-7d4f-408b-805e-30173805c907"
      },
      "execution_count": 18,
      "outputs": [
        {
          "output_type": "stream",
          "name": "stdout",
          "text": [
            "Alice's average grade is 88.40\n"
          ]
        }
      ]
    },
    {
      "cell_type": "code",
      "source": [
        "#13. Create a class Rectangle with methods set_dimensions() to set the dimensions and area() to calculate the\n",
        "#area.\n",
        "class Rectangle:\n",
        "    def __init__(self):\n",
        "        self.length = 0\n",
        "        self.width = 0\n",
        "    def set_dimensions(self, length, width):\n",
        "        self.length = length\n",
        "        self.width = width\n",
        "    def area(self):\n",
        "        return self.length * self.width\n",
        "rect = Rectangle()\n",
        "rect.set_dimensions(5, 3)\n",
        "print(f\"The area of the rectangle is: {rect.area()} square units\")\n"
      ],
      "metadata": {
        "colab": {
          "base_uri": "https://localhost:8080/"
        },
        "id": "dBsavciGHjpI",
        "outputId": "a2d583d7-9ea8-46a2-cc4e-dca75f722eed"
      },
      "execution_count": 19,
      "outputs": [
        {
          "output_type": "stream",
          "name": "stdout",
          "text": [
            "The area of the rectangle is: 15 square units\n"
          ]
        }
      ]
    },
    {
      "cell_type": "code",
      "source": [
        "#14. Create a class Employee with a method calculate_salary() that computes the salary based on hours worked\n",
        "#and hourly rate. Create a derived class Manager that adds a bonus to the salary\n",
        "class Employee:\n",
        "    def __init__(self, name, hours_worked, hourly_rate):\n",
        "        self.name = name\n",
        "        self.hours_worked = hours_worked\n",
        "        self.hourly_rate = hourly_rate\n",
        "    def calculate_salary(self):\n",
        "        return self.hours_worked * self.hourly_rate\n",
        "\n",
        "class Manager(Employee):\n",
        "    def __init__(self, name, hours_worked, hourly_rate, bonus):\n",
        "        super().__init__(name, hours_worked, hourly_rate)\n",
        "        self.bonus = bonus\n",
        "    def calculate_salary(self):\n",
        "        base_salary = super().calculate_salary()\n",
        "        return base_salary + self.bonus\n",
        "employee = Employee(\"Shyam\", 50, 20)\n",
        "print(f\"{employee.name}'s salary: ${employee.calculate_salary()}\")\n",
        "manager = Manager(\"Jane\", 40, 30, 500)\n",
        "print(f\"{manager.name}'s salary (with bonus): ${manager.calculate_salary()}\")\n"
      ],
      "metadata": {
        "colab": {
          "base_uri": "https://localhost:8080/"
        },
        "id": "6_j1fH0MID6X",
        "outputId": "2c2deb9d-d1c5-447c-b915-04b1c8f7976d"
      },
      "execution_count": 20,
      "outputs": [
        {
          "output_type": "stream",
          "name": "stdout",
          "text": [
            "Shyam's salary: $1000\n",
            "Jane's salary (with bonus): $1700\n"
          ]
        }
      ]
    },
    {
      "cell_type": "code",
      "source": [
        "#15. Create a class Product with attributes name, price, and quantity. Implement a method total_price() that\n",
        "#calculates the total price of the product.\n",
        "class Product:\n",
        "    def __init__(self, name, price, quantity):\n",
        "        self.name = name\n",
        "        self.price = price\n",
        "        self.quantity = quantity\n",
        "    def total_price(self):\n",
        "        return self.price * self.quantity\n",
        "product1 = Product(\"tablet\", 1000, 6)\n",
        "print(f\"Total price of {product1.name}: ${product1.total_price()}\")"
      ],
      "metadata": {
        "colab": {
          "base_uri": "https://localhost:8080/"
        },
        "id": "RwbLXxaeI5yZ",
        "outputId": "74a57cf5-6ce4-4821-de8d-f57eac7899cb"
      },
      "execution_count": 21,
      "outputs": [
        {
          "output_type": "stream",
          "name": "stdout",
          "text": [
            "Total price of tablet: $6000\n"
          ]
        }
      ]
    },
    {
      "cell_type": "code",
      "source": [
        "#16. Create a class Animal with an abstract method sound(). Create two derived classes Cow and Sheep that\n",
        "#implement the sound() method.\n",
        "from abc import ABC, abstractmethod\n",
        "class Animal(ABC):\n",
        "    @abstractmethod\n",
        "    def sound(self):\n",
        "        pass\n",
        "class Cow(Animal):\n",
        "    def sound(self):\n",
        "        return \"Moo\"\n",
        "class Sheep(Animal):\n",
        "    def sound(self):\n",
        "        return \"Baa\"\n",
        "cow = Cow()\n",
        "sheep = Sheep()\n",
        "print(f\"Cow sound: {cow.sound()}\")\n",
        "print(f\"Sheep sound: {sheep.sound()}\")\n"
      ],
      "metadata": {
        "colab": {
          "base_uri": "https://localhost:8080/"
        },
        "id": "o0YjYz6oJRWX",
        "outputId": "eadb8eae-65b6-4a81-ae29-e32c021b2e97"
      },
      "execution_count": 22,
      "outputs": [
        {
          "output_type": "stream",
          "name": "stdout",
          "text": [
            "Cow sound: Moo\n",
            "Sheep sound: Baa\n"
          ]
        }
      ]
    },
    {
      "cell_type": "code",
      "source": [
        "#17. Create a class Book with attributes title, author, and year_published. Add a method get_book_info() that\n",
        "#returns a formatted string with the book's details.\n",
        "class Book:\n",
        "    def __init__(self, title, author, year_published):\n",
        "        self.title = title\n",
        "        self.author = author\n",
        "        self.year_published = year_published\n",
        "    def get_book_info(self):\n",
        "        return f\"'{self.title}' by {self.author}, published in {self.year_published}\"\n",
        "book1 = Book(\"1984\", \"George Orwell\", 1949)\n",
        "print(book1.get_book_info())\n"
      ],
      "metadata": {
        "colab": {
          "base_uri": "https://localhost:8080/"
        },
        "id": "jT3pQyjwJ0uW",
        "outputId": "353ebce7-5357-4acf-816e-8239e424983d"
      },
      "execution_count": 23,
      "outputs": [
        {
          "output_type": "stream",
          "name": "stdout",
          "text": [
            "'1984' by George Orwell, published in 1949\n"
          ]
        }
      ]
    },
    {
      "cell_type": "code",
      "source": [
        "#18. Create a class House with attributes address and price. Create a derived class Mansion that adds an\n",
        "#attribute number_of_rooms.\n",
        "class House:\n",
        "    def __init__(self, address, price):\n",
        "        self.address = address\n",
        "        self.price = price\n",
        "\n",
        "    def get_house_details(self):\n",
        "        return f\"Address: {self.address}, Price: ${self.price}\"\n",
        "class Mansion(House):\n",
        "    def __init__(self, address, price, number_of_rooms):\n",
        "\n",
        "        super().__init__(address, price)\n",
        "        self.number_of_rooms = number_of_rooms\n",
        "    def get_mansion_details(self):\n",
        "        return f\"{self.get_house_details()}, Number of rooms: {self.number_of_rooms}\"\n",
        "house = House(\"123 Main St\", 250000)\n",
        "print(house.get_house_details())\n",
        "mansion = Mansion(\"456 Oak Ave\", 1000000, 10)\n",
        "print(mansion.get_mansion_details())\n"
      ],
      "metadata": {
        "colab": {
          "base_uri": "https://localhost:8080/"
        },
        "id": "SVmuPFkWKLX-",
        "outputId": "f6e4ad37-374e-4c38-ea97-afa762883e91"
      },
      "execution_count": 24,
      "outputs": [
        {
          "output_type": "stream",
          "name": "stdout",
          "text": [
            "Address: 123 Main St, Price: $250000\n",
            "Address: 456 Oak Ave, Price: $1000000, Number of rooms: 10\n"
          ]
        }
      ]
    }
  ]
}